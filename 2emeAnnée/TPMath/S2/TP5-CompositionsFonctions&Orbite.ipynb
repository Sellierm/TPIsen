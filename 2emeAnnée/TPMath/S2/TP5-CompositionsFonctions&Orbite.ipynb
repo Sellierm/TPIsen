{
 "cells": [
  {
   "cell_type": "markdown",
   "metadata": {},
   "source": [
    "# Fonctions\n",
    "\n",
    "Inscrivez tout d'abord <span style=\"color: red\">Elliott Vanwormhoudt-Judith Lecoq</span>.\n",
    "\n",
    "Nous allons dans cette séance de travaux pratiques manipuler des fonctions entre ensembles finis, qu'on peut implémenter à l'aide de tableaux associatifs, appelés <a href=\"https://docs.python.org/2/tutorial/datastructures.html#dictionaries\">dictionnaires</a> en Python (l'équivalent des maps de C++). Ici une fonction de l'ensemble $\\{ a, b, c, d\\}$ vers $\\{1,2,3\\}$:"
   ]
  },
  {
   "cell_type": "code",
   "execution_count": 10,
   "metadata": {},
   "outputs": [],
   "source": [
    "f = { \"a\": 1, \"b\": 2, \"c\": 7, \"d\": 3 }"
   ]
  },
  {
   "cell_type": "markdown",
   "metadata": {},
   "source": [
    "On évalue la fonction sur un élément du domaine à l'aide de l'opérateur crochets:"
   ]
  },
  {
   "cell_type": "code",
   "execution_count": 11,
   "metadata": {},
   "outputs": [
    {
     "data": {
      "text/plain": [
       "2"
      ]
     },
     "execution_count": 11,
     "metadata": {},
     "output_type": "execute_result"
    }
   ],
   "source": [
    "f[\"b\"]"
   ]
  },
  {
   "cell_type": "code",
   "execution_count": 12,
   "metadata": {},
   "outputs": [],
   "source": [
    "def two_line_repr(f):\n",
    "    \n",
    "    res = \"[ \"\n",
    "    for x in f.keys():\n",
    "        pad = (len(str(f[x])) - len(str(x))) * \" \" if len(str(f[x])) > len(str(x)) else \"\"\n",
    "        res += pad + str(x) + \" \"\n",
    "    res += \"]\\n[ \"\n",
    "    \n",
    "    for x in f.keys():\n",
    "        pad = (len(str(x)) - len(str(f[x]))) * \" \" if len(str(x)) > len(str(f[x])) else \"\"\n",
    "        res += pad + str(f[x]) + \" \"\n",
    "    res += \"]\"\n",
    "    \n",
    "    print (res)"
   ]
  },
  {
   "cell_type": "code",
   "execution_count": 13,
   "metadata": {},
   "outputs": [
    {
     "name": "stdout",
     "output_type": "stream",
     "text": [
      "[ a b c d ]\n",
      "[ 1 2 7 3 ]\n"
     ]
    }
   ],
   "source": [
    "two_line_repr(f)"
   ]
  },
  {
   "cell_type": "markdown",
   "metadata": {},
   "source": [
    "## 1) Composition\n",
    "\n",
    "Définir une fonction **comp(f,g)** qui prend en argument deux fonctions $f$ et $g$ données sous forme de dictionnaire et renvoie la fonction composée $f \\circ g$; une erreur est affichée si les fonctions ne sont pas composables. Vérifier sur quelques exemples que vous avez bien le fonctionnement attendu."
   ]
  },
  {
   "cell_type": "code",
   "execution_count": 14,
   "metadata": {},
   "outputs": [],
   "source": [
    "# def comp(f,g):\n",
    "#     fog = {}\n",
    "#     for k in g.keys():\n",
    "#         if g[k] in f:\n",
    "#             fog[k] = f[g[k]]\n",
    "#     return fog\n",
    "def comp(f,g):\n",
    "    return {x : f[g[x]] for x in g.keys()}\n",
    "\n",
    "\n"
   ]
  },
  {
   "cell_type": "markdown",
   "metadata": {},
   "source": [
    "## 2) Générer les fonctions\n",
    "\n",
    "Définir une fonction (récursive si vous voulez) **all_func(n)** prenant en argument un entier $n$ et renvoyant une liste de toutes les fonctions de l'ensemble $[\\![1, n]\\!]$ dans lui-même (vérifiez que vous en obtenez bien $n^n$)."
   ]
  },
  {
   "cell_type": "code",
   "execution_count": 15,
   "metadata": {},
   "outputs": [
    {
     "name": "stdout",
     "output_type": "stream",
     "text": [
      "[{1: 1, 2: 1, 3: 1}, {1: 1, 2: 1, 3: 2}, {1: 1, 2: 1, 3: 3}, {1: 1, 2: 2, 3: 1}, {1: 1, 2: 2, 3: 2}, {1: 1, 2: 2, 3: 3}, {1: 1, 2: 3, 3: 1}, {1: 1, 2: 3, 3: 2}, {1: 1, 2: 3, 3: 3}, {1: 2, 2: 1, 3: 1}, {1: 2, 2: 1, 3: 2}, {1: 2, 2: 1, 3: 3}, {1: 2, 2: 2, 3: 1}, {1: 2, 2: 2, 3: 2}, {1: 2, 2: 2, 3: 3}, {1: 2, 2: 3, 3: 1}, {1: 2, 2: 3, 3: 2}, {1: 2, 2: 3, 3: 3}, {1: 3, 2: 1, 3: 1}, {1: 3, 2: 1, 3: 2}, {1: 3, 2: 1, 3: 3}, {1: 3, 2: 2, 3: 1}, {1: 3, 2: 2, 3: 2}, {1: 3, 2: 2, 3: 3}, {1: 3, 2: 3, 3: 1}, {1: 3, 2: 3, 3: 2}, {1: 3, 2: 3, 3: 3}]\n",
      "Nombre de fonctions dans l'ensemble [1,n] = 27 \n",
      "3^3 = 27\n"
     ]
    }
   ],
   "source": [
    "def all_func(n):\n",
    "    return all_func_mn(n,n)\n",
    "\n",
    "def all_func_mn(m,n):\n",
    "    if n == 0:\n",
    "        return [{}]\n",
    "    list =[]\n",
    "    for i in all_func_mn(m,n-1):\n",
    "        for j in range(1,m+1):\n",
    "            tmp = i.copy();\n",
    "            tmp[n] = j\n",
    "            list.append(tmp)\n",
    "    return list;\n",
    "\n",
    "print(all_func(3))\n",
    "print(\"Nombre de fonctions dans l'ensemble [1,n] = %d \" % len(all_func(3)))\n",
    "print(\"3^3 = %d\" %3**3)      "
   ]
  },
  {
   "cell_type": "markdown",
   "metadata": {},
   "source": [
    "## 3) Associativité\n",
    "\n",
    "Vérifier explicitement l'associativité de la composition sur $\\mathcal{F}_n := \\mathcal{F}([\\![1,n]\\!])$ pour $n=3$ (rapide) puis pour $n = 4$ ($\\sim$ 1 min 20 s sur ma machine &ndash; vous pouvez chronométrer l'exécution d'une cellule en y écrivant **%%time** sur la première ligne). Combien de temps cela vous prendrait-il pour $n = 5$ ?"
   ]
  },
  {
   "cell_type": "code",
   "execution_count": 38,
   "metadata": {},
   "outputs": [
    {
     "name": "stdout",
     "output_type": "stream",
     "text": [
      "True\n",
      "True\n",
      "CPU times: user 44.9 s, sys: 0 ns, total: 44.9 s\n",
      "Wall time: 44.9 s\n"
     ]
    }
   ],
   "source": [
    "%%time\n",
    "def associatif(n):\n",
    "    F = all_func(n)\n",
    "    nbr,asso = 0,0\n",
    "    for i in F:\n",
    "        for j in F:\n",
    "            for k in F:\n",
    "                nbr +=1\n",
    "                if comp(comp(i,j),k) == comp(i,comp(j,k)):\n",
    "                    asso +=1\n",
    "    return asso == nbr\n",
    "print(associatif(3))\n",
    "print(associatif(4))\n",
    "\n"
   ]
  },
  {
   "cell_type": "code",
   "execution_count": 37,
   "metadata": {},
   "outputs": [
    {
     "name": "stdout",
     "output_type": "stream",
     "text": [
      "Sachant que pour n = 4, il y a (4^4)^3 opérations(soit 16777216), et que çela prend 45 s sur mon ordinateur\n",
      "Alors pour n = 5, cela représente (5^5)^3 fonctions à trouver, soit 30517578125\n",
      "cela représenterai alors 81854 s, soit 22 h et 44 min\n",
      "19683\n"
     ]
    }
   ],
   "source": [
    "print(\"Sachant que pour n = 4, il y a (4^4)^3 opérations(soit %d), et que çela prend 45 s sur mon ordinateur\" % (4**4)**3)\n",
    "print(\"Alors pour n = 5, cela représente (5^5)^3 fonctions à trouver, soit %d\" % (5**5)**3)\n",
    "\n",
    "result = ((5**5)**3)*45/ (4**4)**3\n",
    "hours = result / 3600\n",
    "minutes = (result%3600) / 60\n",
    "print(\"cela représenterai alors %d s, soit %d h et %d min\" % (result, hours, minutes))\n",
    "print((3**3)**3)"
   ]
  },
  {
   "cell_type": "markdown",
   "metadata": {},
   "source": [
    "## 4) Fonctions symétrisables\n",
    "\n",
    "Déterminer par force brute le nombre de fonctions $f \\in \\mathcal{F}_n$ qui sont symétrisables pour $\\circ$ pour  $n \\leq 5$. Sauriez-vous conjecturer la formule générale ? (et la démontrer !)"
   ]
  },
  {
   "cell_type": "code",
   "execution_count": 39,
   "metadata": {
    "pycharm": {
     "name": "#%%\n"
    }
   },
   "outputs": [
    {
     "name": "stdout",
     "output_type": "stream",
     "text": [
      "1 :  1\n",
      "2 :  2\n",
      "3 :  6\n",
      "4 :  24\n",
      "5 :  120\n",
      "On remarque que le nombre de fonctions symétrisables est de n!\n"
     ]
    }
   ],
   "source": [
    "nbr = 0\n",
    "for i in range(1,6):\n",
    "    nbr = 0\n",
    "    for j in all_func(i):\n",
    "        for k in all_func(i):\n",
    "            F = comp(j,k)\n",
    "            test = 0\n",
    "            for l in range(1,i+1):\n",
    "                if F[l] == l :\n",
    "                    test +=1\n",
    "            if test == i:\n",
    "                nbr+=1\n",
    "    print(\"%d : % d\"%(i,nbr))\n",
    "    \n",
    "print(\"On remarque que le nombre de fonctions symétrisables est de n!\")    "
   ]
  },
  {
   "cell_type": "markdown",
   "metadata": {},
   "source": [
    "## 5) Fonctions qui commutent\n",
    "\n",
    "Déterminer le nombre de paires $(f,g) \\in \\mathcal{F}_n^2$ de fonctions qui commutent pour $n \\leq 5$ (30 s sur mon PC). Sauriez-vous dire combien il y en a pour $n = 6$ ? (vous pouvez <a href=\"https://oeis.org/\">vous aider des internets</a> si vous séchez)"
   ]
  },
  {
   "cell_type": "code",
   "execution_count": 41,
   "metadata": {},
   "outputs": [
    {
     "name": "stdout",
     "output_type": "stream",
     "text": [
      "1 : 1\n",
      "2 : 10\n",
      "3 : 141\n",
      "4 : 2824\n",
      "5 : 71565\n",
      "Selon le site https://oeis.org/, il y aurait 2244096 fonctions qui commutent pour n = 6\n",
      "CPU times: user 17.5 s, sys: 0 ns, total: 17.5 s\n",
      "Wall time: 17.6 s\n"
     ]
    }
   ],
   "source": [
    "%%time\n",
    "for i in range(1,6):\n",
    "    nbr = 0\n",
    "    for j in all_func(i):\n",
    "        for k in all_func(i):\n",
    "            if comp(j,k) == comp(k,j):\n",
    "                nbr +=1\n",
    "    print(\"%d : %d\"%(i,nbr))\n",
    "    \n",
    "print(\"Selon le site https://oeis.org/, il y aurait 2244096 fonctions qui commutent pour n = 6\")"
   ]
  },
  {
   "cell_type": "markdown",
   "metadata": {},
   "source": [
    "## 6) Orbites\n",
    "\n",
    "On définit l'*orbite* d'un élément $x \\in [\\![1,n]\\!]$ par une fonction $f \\in \\mathcal{F}_n$ comme étant l'ensemble des itérés de la fonction sur cet élément:\n",
    "\n",
    "$$ \\mathrm{Orb}_f(x) = \\{ x, \\, f(x), \\, f^2(x), \\, f^3(x), \\, \\ldots \\, \\} $$\n",
    "\n",
    "Définir une fonction **orb(f,x)** renvoyant l'ensemble de ces valeurs sous forme de liste. Attention: l'ensemble d'arrivée de $f$ étant fini, la suite des valeurs $(f^n(x))$ finira forcément par boucler; assurez-vous de le détecter et de vous arrêter à ce moment."
   ]
  },
  {
   "cell_type": "code",
   "execution_count": 58,
   "metadata": {},
   "outputs": [],
   "source": [
    "def orb(f,x):\n",
    "    orbit = []\n",
    "    orbit.append(x);\n",
    "    fn = f\n",
    "    while not fn[x] in orbit:\n",
    "        orbit.append(fn[x])\n",
    "        fn = comp(f,fn)\n",
    "    return orbit "
   ]
  },
  {
   "cell_type": "markdown",
   "metadata": {},
   "source": [
    "Quelle est la taille moyenne des orbites des fonctions $f \\in \\mathcal{F}_7$ ? i.e. évaluez\n",
    "$$ \\frac{1}{|\\mathcal{F}_7|} \\sum_{f \\in \\mathcal{F}_7} \\frac{1}{7} \\sum_{x = 1}^7 | \\mathrm{Orb}_f(x) | $$"
   ]
  },
  {
   "cell_type": "code",
   "execution_count": 59,
   "metadata": {},
   "outputs": [
    {
     "name": "stdout",
     "output_type": "stream",
     "text": [
      "3.0181387007110096\n",
      "CPU times: user 14.8 s, sys: 125 ms, total: 15 s\n",
      "Wall time: 15 s\n"
     ]
    }
   ],
   "source": [
    "%%time\n",
    "moy = 0\n",
    "for i in all_func(7):\n",
    "    sum = 0\n",
    "    for j in range(1,8):\n",
    "        sum += len(orb(i,j))       \n",
    "    moy += sum/7\n",
    "\n",
    "print(moy/(7**7))"
   ]
  },
  {
   "cell_type": "code",
   "execution_count": null,
   "metadata": {},
   "outputs": [],
   "source": []
  }
 ],
 "metadata": {
  "kernelspec": {
   "display_name": "Python 3",
   "language": "python",
   "name": "python3"
  },
  "language_info": {
   "codemirror_mode": {
    "name": "ipython",
    "version": 3
   },
   "file_extension": ".py",
   "mimetype": "text/x-python",
   "name": "python",
   "nbconvert_exporter": "python",
   "pygments_lexer": "ipython3",
   "version": "3.7.3"
  }
 },
 "nbformat": 4,
 "nbformat_minor": 2
}
