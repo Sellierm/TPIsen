{
 "cells": [
  {
   "cell_type": "markdown",
   "metadata": {},
   "source": [
    "# TP5 &ndash; Permutations\n",
    "\n",
    "<span style=\"color:blue\"> $\\rightarrow$ Elliott Vanwormhoudt - S$\\leftarrow$ </span> \n",
    "\n",
    "Nous allons dans ce TP implémenter quelques opérations de base sur les permutations.\n",
    "\n",
    "## 0) Prise en main\n",
    "\n",
    "\n",
    "Récupérez sur Campus le fichier `Permutation.sage` contenant un canevas de classe à compléter et chargez-le dans la feuille de calcul de la façon suivante:"
   ]
  },
  {
   "cell_type": "code",
   "execution_count": 98,
   "metadata": {},
   "outputs": [
    {
     "name": "stdout",
     "output_type": "stream",
     "text": [
      "-= Classe Permutation chargée =-\n",
      "\n",
      "N'oubliez pas de la recharger à chaque fois que vous la modifiez !\n"
     ]
    }
   ],
   "source": [
    "load('Permutation.sage')"
   ]
  },
  {
   "cell_type": "markdown",
   "metadata": {},
   "source": [
    "Ouvrez le fichier dans votre éditeur préféré pour consulter le code de la classe (vous pouvez mettre la coloration syntaxique en mode Python si disponible). Le choix de conception qui a été fait est de représenter en interne une permutation par sa liste ordonnée de valeurs, _i.e._ sa représentation sur une ligne. On crée par exemple la permutation\n",
    "\n",
    "$$ \\sigma = (1, 3, 4, 5) = \\begin{pmatrix} 1 & 2 & 3 & 4 & 5 \\\\ 3 & 2 & 4 & 5 & 1 \\end{pmatrix} = 3\\,2\\,4\\,5\\,1 \\in \\mathcal{S}_5 $$\n",
    "\n",
    "de la façon suivante:"
   ]
  },
  {
   "cell_type": "code",
   "execution_count": 99,
   "metadata": {},
   "outputs": [],
   "source": [
    "s = Permutation([3,2,4,5,1])"
   ]
  },
  {
   "cell_type": "markdown",
   "metadata": {},
   "source": [
    "Sous le capot: le constructeur `__init__` est appelé et stocke dans une variable membre data la représentation sur une ligne de la permutation:"
   ]
  },
  {
   "cell_type": "code",
   "execution_count": 100,
   "metadata": {},
   "outputs": [
    {
     "data": {
      "text/plain": [
       "[3, 2, 4, 5, 1]"
      ]
     },
     "execution_count": 100,
     "metadata": {},
     "output_type": "execute_result"
    }
   ],
   "source": [
    "s.data"
   ]
  },
  {
   "cell_type": "markdown",
   "metadata": {},
   "source": [
    "Pour obtenir la chaîne de caractères utilisée pour l'affichage d'un objet, la méthode `__repr__` est appelée:"
   ]
  },
  {
   "cell_type": "code",
   "execution_count": 101,
   "metadata": {},
   "outputs": [
    {
     "data": {
      "text/plain": [
       "[1 2 3 4 5]\n",
       "[3 2 4 5 1]"
      ]
     },
     "execution_count": 101,
     "metadata": {},
     "output_type": "execute_result"
    }
   ],
   "source": [
    "s"
   ]
  },
  {
   "cell_type": "markdown",
   "metadata": {},
   "source": [
    "La méthode `__call__` permet quant à elle d'utiliser l'opérateur \"parenthèses\" pour évaluer une permutation sur une entrée donnée:"
   ]
  },
  {
   "cell_type": "code",
   "execution_count": 102,
   "metadata": {},
   "outputs": [
    {
     "data": {
      "text/plain": [
       "4"
      ]
     },
     "execution_count": 102,
     "metadata": {},
     "output_type": "execute_result"
    }
   ],
   "source": [
    "s = Permutation([3,2,4,6,8,7,5,1])\n",
    "s(3)"
   ]
  },
  {
   "cell_type": "markdown",
   "metadata": {},
   "source": [
    "Il est préférable d'évaluer ainsi les permutations plutôt que d'accéder à leur membre data puisque celui-ci dépend d'un choix d'implémentation. De toute façon, on peut facilement le regénérer avec des évaluations:"
   ]
  },
  {
   "cell_type": "code",
   "execution_count": 103,
   "metadata": {},
   "outputs": [
    {
     "data": {
      "text/plain": [
       "[3, 2, 4, 6, 8, 7, 5, 1]"
      ]
     },
     "execution_count": 103,
     "metadata": {},
     "output_type": "execute_result"
    }
   ],
   "source": [
    "[ s(i) for i in [1..len(s)] ]"
   ]
  },
  {
   "cell_type": "markdown",
   "metadata": {},
   "source": [
    "Notez que la méthode d'évaluation est plutôt permissive, de façon à pouvoir aisément promouvoir une permutation de $\\mathcal{S}_n$ en une permutation de $\\mathcal{S}_N$ avec $N > n$ en considérant que tous les éléments entre $n+1$ et $N$ sont fixés par celle-ci:"
   ]
  },
  {
   "cell_type": "code",
   "execution_count": 104,
   "metadata": {},
   "outputs": [
    {
     "data": {
      "text/plain": [
       "[3, 2, 4, 6, 8, 7, 5, 1, 9, 10, 11, 12, 13, 14, 15]"
      ]
     },
     "execution_count": 104,
     "metadata": {},
     "output_type": "execute_result"
    }
   ],
   "source": [
    "[ s(i) for i in [1..15] ]"
   ]
  },
  {
   "cell_type": "markdown",
   "metadata": {},
   "source": [
    "Rappel : le premier argument d'une méthode en Python est une référence à l'instance qui l'invoque, traditionnellement nommée `self` (bien que ce ne soit pas un mot-clé réservé du langage, contrairement à `this` chez d'autres):\n",
    "\n",
    "si `a` est un `A` possédant une méthode `f`, alors `a.f(args)` équivaut à `A.f(a,args)`.\n",
    "\n",
    "## 1) Composition\n",
    "\n",
    "Implémentez dans `Permutation.sage` la méthode `__mul__` permettant d'évaluer la composition de permutations, en notation francophone traditionnelle:\n",
    "\n",
    "si s et t sont des permutations, `s * t = s.__mul__(t)` est la permutation usuellement notée `s` $\\circ$ `t`.\n",
    "\n",
    "Par exemple:"
   ]
  },
  {
   "cell_type": "code",
   "execution_count": 105,
   "metadata": {},
   "outputs": [
    {
     "data": {
      "text/plain": [
       "True"
      ]
     },
     "execution_count": 105,
     "metadata": {},
     "output_type": "execute_result"
    }
   ],
   "source": [
    "s = Permutation([4, 2, 3, 6, 10, 1, 8, 5, 7, 9])\n",
    "t = Permutation([9, 7, 5, 4, 2, 8, 3, 10, 6, 1])\n",
    "\n",
    "s * t == Permutation([7, 8, 10, 6, 2, 5, 3, 9, 1, 4]) # true"
   ]
  },
  {
   "cell_type": "markdown",
   "metadata": {},
   "source": [
    "Pour composer deux permutations, l'une dans $\\mathcal{S}_n$ et l'autre dans $\\mathcal{S}_m$, on se placera dans $\\mathcal{S}_{\\max(m,n)}$:"
   ]
  },
  {
   "cell_type": "code",
   "execution_count": 106,
   "metadata": {},
   "outputs": [
    {
     "data": {
      "text/plain": [
       "True"
      ]
     },
     "execution_count": 106,
     "metadata": {},
     "output_type": "execute_result"
    }
   ],
   "source": [
    "s = Permutation([3, 2, 4, 1])\n",
    "t = Permutation([6, 3, 1, 2, 4, 5, 8, 7])\n",
    "\n",
    "s*t == Permutation([6, 4, 3, 2, 1, 5, 8, 7]) # true"
   ]
  },
  {
   "cell_type": "markdown",
   "metadata": {},
   "source": [
    "## 2) Ordre\n",
    "\n",
    "Utilisez votre opérateur de composition pour définir la méthode ordre qui calcule l'ordre de la permutation. Par exemple:"
   ]
  },
  {
   "cell_type": "code",
   "execution_count": 107,
   "metadata": {},
   "outputs": [
    {
     "data": {
      "text/plain": [
       "True"
      ]
     },
     "execution_count": 107,
     "metadata": {},
     "output_type": "execute_result"
    }
   ],
   "source": [
    "Permutation([1,4,3,5,6,2]).ordre() == 4 # true"
   ]
  },
  {
   "cell_type": "markdown",
   "metadata": {},
   "source": [
    "Quel est l'ordre de\n",
    "\n",
    "$$ \\sigma = \\begin{bmatrix} 1 & 2 & 3 & 4 & 5 & 6 & 7 & 8 & 9 & 10 & 11 & 12 & 13 & 14 & 15 \\\\ 5 & 3 & 13 & 8 & 11 & 6 & 9 & 15 & 10 & 12 & 2 & 14 & 1 & 7 & 4 \\end{bmatrix} \\in \\mathcal{S}_{15} \\ ? $$"
   ]
  },
  {
   "cell_type": "code",
   "execution_count": 108,
   "metadata": {},
   "outputs": [
    {
     "data": {
      "text/plain": [
       "30"
      ]
     },
     "execution_count": 108,
     "metadata": {},
     "output_type": "execute_result"
    }
   ],
   "source": [
    "sigma = Permutation([5, 3, 13, 8, 11, 6, 9, 15, 10, 12, 2, 14, 1, 7, 4])\n",
    "sigma.ordre()"
   ]
  },
  {
   "cell_type": "markdown",
   "metadata": {},
   "source": [
    "## 3) Inversions\n",
    "\n",
    "Implémentez dans la classe Permutation la méthode inversions qui génère la liste des inversions d'une permutation $\\sigma$ donnée, c'est-à-dire la liste des paires d'indices $(i,j)$ telles que\n",
    "$$ i < j \\qquad \\text{mais} \\qquad \\sigma(i) > \\sigma(j). $$\n",
    "\n",
    "Par exemple:"
   ]
  },
  {
   "cell_type": "code",
   "execution_count": 109,
   "metadata": {},
   "outputs": [
    {
     "data": {
      "text/plain": [
       "True"
      ]
     },
     "execution_count": 109,
     "metadata": {},
     "output_type": "execute_result"
    }
   ],
   "source": [
    "Permutation([5, 2, 3, 4, 1]).inversions() == [(1, 2), (1, 3), (1, 4), (1, 5), (2, 5), (3, 5), (4, 5)] # true"
   ]
  },
  {
   "cell_type": "code",
   "execution_count": 110,
   "metadata": {},
   "outputs": [
    {
     "data": {
      "text/plain": [
       "True"
      ]
     },
     "execution_count": 110,
     "metadata": {},
     "output_type": "execute_result"
    }
   ],
   "source": [
    "s = Permutation([6, 7, 18, 8, 3, 20, 12, 10, 17, 5, 13, 2, 4, 11, 9, 14, 19, 16, 1, 15])\n",
    "\n",
    "len(s.inversions()) == 87 # true"
   ]
  },
  {
   "cell_type": "markdown",
   "metadata": {},
   "source": [
    "La parité du nombre d'inversions est une des caractéristiques les plus importantes d'une permutation, exprimée le plus souvent comme une signature: $+1$ pour les permutations paires, $-1$ pour les impaires."
   ]
  },
  {
   "cell_type": "code",
   "execution_count": 111,
   "metadata": {},
   "outputs": [
    {
     "data": {
      "text/plain": [
       "True"
      ]
     },
     "execution_count": 111,
     "metadata": {},
     "output_type": "execute_result"
    }
   ],
   "source": [
    "Permutation([3, 8, 2, 6, 5, 4, 1, 7]).sg() == -1 # true"
   ]
  },
  {
   "cell_type": "markdown",
   "metadata": {},
   "source": [
    "## 4) Cycles\n",
    "\n",
    "Implémentez une seconde classe `Cycle` héritant de `Permutation` et surchargeant les méthodes `__init__` et `__repr__` de façon à obtenir le comportement suivant:"
   ]
  },
  {
   "cell_type": "code",
   "execution_count": 2,
   "metadata": {},
   "outputs": [
    {
     "name": "stdout",
     "output_type": "stream",
     "text": [
      "-= Classe Permutation chargée =-\n",
      "\n",
      "N'oubliez pas de la recharger à chaque fois que vous la modifiez !\n",
      "-= Classe Cycle chargée =-\n",
      "[1, 3, 7, 4, 5, 6, 2]\n"
     ]
    },
    {
     "data": {
      "text/plain": [
       "(3 7 2)"
      ]
     },
     "execution_count": 2,
     "metadata": {},
     "output_type": "execute_result"
    }
   ],
   "source": [
    "load(\"Cycle.sage\")\n",
    "\n",
    "c = Cycle([3,7,2]); c # (3,7,2)"
   ]
  },
  {
   "cell_type": "code",
   "execution_count": 3,
   "metadata": {},
   "outputs": [
    {
     "data": {
      "text/plain": [
       "True"
      ]
     },
     "execution_count": 3,
     "metadata": {},
     "output_type": "execute_result"
    }
   ],
   "source": [
    "c.ordre() == 3 # true"
   ]
  },
  {
   "cell_type": "code",
   "execution_count": 4,
   "metadata": {},
   "outputs": [
    {
     "data": {
      "text/plain": [
       "True"
      ]
     },
     "execution_count": 4,
     "metadata": {},
     "output_type": "execute_result"
    }
   ],
   "source": [
    "[ c(i) for i in [1..7] ] == [1, 3, 7, 4, 5, 6, 2] # true"
   ]
  },
  {
   "cell_type": "code",
   "execution_count": 5,
   "metadata": {},
   "outputs": [
    {
     "data": {
      "text/plain": [
       "True"
      ]
     },
     "execution_count": 5,
     "metadata": {},
     "output_type": "execute_result"
    }
   ],
   "source": [
    "c == Permutation([1, 3, 7, 4, 5, 6, 2]) # true"
   ]
  },
  {
   "cell_type": "code",
   "execution_count": 6,
   "metadata": {},
   "outputs": [
    {
     "data": {
      "text/plain": [
       "True"
      ]
     },
     "execution_count": 6,
     "metadata": {},
     "output_type": "execute_result"
    }
   ],
   "source": [
    "c * c == Permutation([1, 7, 2, 4, 5, 6, 3]) # true"
   ]
  },
  {
   "cell_type": "markdown",
   "metadata": {},
   "source": [
    "On peut quand même accéder aux méthodes de la classe parent en le demandant explicitement:"
   ]
  },
  {
   "cell_type": "code",
   "execution_count": 7,
   "metadata": {},
   "outputs": [
    {
     "name": "stdout",
     "output_type": "stream",
     "text": [
      "[1 2 3 4 5 6 7]\n",
      "[1 3 7 4 5 6 2]\n"
     ]
    }
   ],
   "source": [
    "print(Permutation.__repr__(c))"
   ]
  },
  {
   "cell_type": "markdown",
   "metadata": {},
   "source": [
    "## 5) Décomposition cyclique\n",
    "\n",
    "Finalement, ce qui nous intéresse peut-être le plus: implémenter la méthode decomposition, qui renvoie une liste de `Cycle`s disjoints dont le produit est la permutation qui nous intéresse. Par exemple:"
   ]
  },
  {
   "cell_type": "code",
   "execution_count": 24,
   "metadata": {},
   "outputs": [
    {
     "name": "stdout",
     "output_type": "stream",
     "text": [
      "-= Classe Permutation chargée =-\n",
      "\n",
      "N'oubliez pas de la recharger à chaque fois que vous la modifiez !\n",
      "-= Classe Cycle chargée =-\n",
      "[4, 2, 3, 5, 1]\n",
      "[1, 6, 7, 4, 5, 3, 2]\n",
      "[1, 2, 3, 4, 5, 6, 7, 9, 8]\n"
     ]
    },
    {
     "data": {
      "text/plain": [
       "[(1 4 5), (2 6 3 7), (8 9)]"
      ]
     },
     "execution_count": 24,
     "metadata": {},
     "output_type": "execute_result"
    }
   ],
   "source": [
    "load(\"Cycle.sage\")\n",
    "s = Permutation([4,6,7,5,1,3,2,9,8])\n",
    "\n",
    "s.decomposition() # [(1,4,5), (2,6,3,7), (8,9)]"
   ]
  },
  {
   "cell_type": "markdown",
   "metadata": {},
   "source": [
    "Vérification:"
   ]
  },
  {
   "cell_type": "code",
   "execution_count": 133,
   "metadata": {},
   "outputs": [
    {
     "name": "stdout",
     "output_type": "stream",
     "text": [
      "[4, 2, 3, 5, 1]\n",
      "[1, 6, 7, 4, 5, 3, 2]\n",
      "[1, 2, 3, 4, 5, 6, 7, 9, 8]\n"
     ]
    },
    {
     "data": {
      "text/plain": [
       "True"
      ]
     },
     "execution_count": 133,
     "metadata": {},
     "output_type": "execute_result"
    }
   ],
   "source": [
    "Cycle([1,4,5]) * Cycle([2,6,3,7]) * Cycle([9,8]) == s # true"
   ]
  },
  {
   "cell_type": "markdown",
   "metadata": {},
   "source": [
    "Un autre exemple:"
   ]
  },
  {
   "cell_type": "code",
   "execution_count": null,
   "metadata": {},
   "outputs": [],
   "source": [
    "s = Permutation([16,15,14,13,12,11,10,9,8,7,6,5,4,3,2,1])\n",
    "\n",
    "s.decomposition() == [Cycle([1,16]), Cycle([2,15]), Cycle([3,14]), Cycle([4,13]), Cycle([5,12]), Cycle([6,11]), Cycle([7,10]), Cycle([8,9])]"
   ]
  },
  {
   "cell_type": "markdown",
   "metadata": {},
   "source": [
    "Une belle permutation d'ordre 2:"
   ]
  },
  {
   "cell_type": "code",
   "execution_count": null,
   "metadata": {},
   "outputs": [],
   "source": [
    "s.ordre() == 2 # effectivement"
   ]
  },
  {
   "cell_type": "code",
   "execution_count": null,
   "metadata": {},
   "outputs": [],
   "source": []
  }
 ],
 "metadata": {
  "kernelspec": {
   "display_name": "SageMath 9.0",
   "language": "sage",
   "name": "sagemath"
  },
  "language_info": {
   "codemirror_mode": {
    "name": "ipython",
    "version": 3
   },
   "file_extension": ".py",
   "mimetype": "text/x-python",
   "name": "python",
   "nbconvert_exporter": "python",
   "pygments_lexer": "ipython3",
   "version": "3.7.3"
  }
 },
 "nbformat": 4,
 "nbformat_minor": 2
}
