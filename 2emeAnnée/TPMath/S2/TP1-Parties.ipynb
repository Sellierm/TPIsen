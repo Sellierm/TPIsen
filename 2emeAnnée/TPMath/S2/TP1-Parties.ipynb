{
 "cells": [
  {
   "cell_type": "markdown",
   "metadata": {},
   "source": [
    "## TP 1 &ndash; Parties\n",
    "\n",
    "Noms des coéquipiers : <span style=\"color: red\">Elliott Vanwormhoudt ; Judith Lecoq</span>\n"
   ]
  },
  {
   "cell_type": "markdown",
   "metadata": {},
   "source": [
    "Question 1 )"
   ]
  },
  {
   "cell_type": "code",
   "execution_count": 20,
   "metadata": {},
   "outputs": [],
   "source": [
    "def suite(n):\n",
    "    res =[]\n",
    "    if n == 0 :\n",
    "        res.append([])\n",
    "    else :\n",
    "        for y in suite(n-1) :\n",
    "            for z in [0,1]:\n",
    "                res.append(y +[z])\n",
    "    return res"
   ]
  },
  {
   "cell_type": "code",
   "execution_count": 10,
   "metadata": {},
   "outputs": [
    {
     "data": {
      "text/plain": [
       "[[0, 0, 0],\n",
       " [0, 0, 1],\n",
       " [0, 1, 0],\n",
       " [0, 1, 1],\n",
       " [1, 0, 0],\n",
       " [1, 0, 1],\n",
       " [1, 1, 0],\n",
       " [1, 1, 1]]"
      ]
     },
     "execution_count": 10,
     "metadata": {},
     "output_type": "execute_result"
    }
   ],
   "source": [
    "suite(3)"
   ]
  },
  {
   "cell_type": "markdown",
   "metadata": {},
   "source": [
    "Question 2 )"
   ]
  },
  {
   "cell_type": "code",
   "execution_count": 21,
   "metadata": {},
   "outputs": [],
   "source": [
    "def parties(E):\n",
    "    res = []\n",
    "    if E ==[] : \n",
    "        res.append([])\n",
    "    else : \n",
    "        for x in parties(E[:-1]):\n",
    "            res.append(x)\n",
    "            res.append(x+[E[-1]])\n",
    "            \n",
    "    return res"
   ]
  },
  {
   "cell_type": "code",
   "execution_count": 22,
   "metadata": {
    "scrolled": true
   },
   "outputs": [
    {
     "data": {
      "text/plain": [
       "[[],\n",
       " [4],\n",
       " [3],\n",
       " [3, 4],\n",
       " [2],\n",
       " [2, 4],\n",
       " [2, 3],\n",
       " [2, 3, 4],\n",
       " [1],\n",
       " [1, 4],\n",
       " [1, 3],\n",
       " [1, 3, 4],\n",
       " [1, 2],\n",
       " [1, 2, 4],\n",
       " [1, 2, 3],\n",
       " [1, 2, 3, 4]]"
      ]
     },
     "execution_count": 22,
     "metadata": {},
     "output_type": "execute_result"
    }
   ],
   "source": [
    "parties([1,2,3,4])"
   ]
  },
  {
   "cell_type": "markdown",
   "metadata": {},
   "source": [
    "On constate qu'on obtient le même nombre d'ensemble que pour la partie 1"
   ]
  },
  {
   "cell_type": "markdown",
   "metadata": {},
   "source": [
    "Question 3 ) "
   ]
  },
  {
   "cell_type": "code",
   "execution_count": 34,
   "metadata": {},
   "outputs": [],
   "source": [
    "def parties_taille2(k,E):\n",
    "    res = []\n",
    "    for l in parties(E):\n",
    "        if len(l) == k:\n",
    "            res.append(l)\n",
    "    return res"
   ]
  },
  {
   "cell_type": "code",
   "execution_count": 35,
   "metadata": {},
   "outputs": [
    {
     "data": {
      "text/plain": [
       "[[2, 3], [1, 3], [1, 2]]"
      ]
     },
     "execution_count": 35,
     "metadata": {},
     "output_type": "execute_result"
    }
   ],
   "source": [
    "parties_taille2(2, [1,2,3]) "
   ]
  },
  {
   "cell_type": "raw",
   "metadata": {},
   "source": [
    "L'approche reccursive semble être la meilleure "
   ]
  },
  {
   "cell_type": "markdown",
   "metadata": {},
   "source": [
    "Question 4 ) a )"
   ]
  },
  {
   "cell_type": "code",
   "execution_count": 15,
   "metadata": {},
   "outputs": [
    {
     "data": {
      "text/plain": [
       "[[0, 0, 4],\n",
       " [0, 1, 3],\n",
       " [1, 0, 3],\n",
       " [0, 2, 2],\n",
       " [1, 1, 2],\n",
       " [2, 0, 2],\n",
       " [0, 3, 1],\n",
       " [1, 2, 1],\n",
       " [2, 1, 1],\n",
       " [3, 0, 1],\n",
       " [0, 4, 0],\n",
       " [1, 3, 0],\n",
       " [2, 2, 0],\n",
       " [3, 1, 0],\n",
       " [4, 0, 0]]"
      ]
     },
     "execution_count": 15,
     "metadata": {},
     "output_type": "execute_result"
    }
   ],
   "source": [
    "def E(n, p):\n",
    "    if (p <= 1):\n",
    "        return [[n]]\n",
    "\n",
    "    else:\n",
    "        res = []\n",
    "        for k in range (0,n +1):\n",
    "            liste = E(k, p-1)\n",
    "            for l in liste:\n",
    "                l.append(n - k)\n",
    "                res.append(l)\n",
    "        return res\n",
    "\n",
    "E(4,3)"
   ]
  },
  {
   "cell_type": "markdown",
   "metadata": {},
   "source": [
    "Question 4 ) b)"
   ]
  },
  {
   "cell_type": "code",
   "execution_count": 38,
   "metadata": {},
   "outputs": [
    {
     "name": "stdout",
     "output_type": "stream",
     "text": [
      "[0, 0, 0, 0, 1, 1]\n",
      "[0, 0, 0, 1, 0, 1]\n",
      "[0, 0, 0, 1, 1, 0]\n",
      "[0, 0, 1, 0, 0, 1]\n",
      "[0, 0, 1, 0, 1, 0]\n",
      "[0, 0, 1, 1, 0, 0]\n",
      "[0, 1, 0, 0, 0, 1]\n",
      "[0, 1, 0, 0, 1, 0]\n",
      "[0, 1, 0, 1, 0, 0]\n",
      "[0, 1, 1, 0, 0, 0]\n",
      "[1, 0, 0, 0, 0, 1]\n",
      "[1, 0, 0, 0, 1, 0]\n",
      "[1, 0, 0, 1, 0, 0]\n",
      "[1, 0, 1, 0, 0, 0]\n",
      "[1, 1, 0, 0, 0, 0]\n"
     ]
    },
    {
     "data": {
      "text/plain": [
       "[[4, 0, 0],\n",
       " [3, 1, 0],\n",
       " [3, 0, 1],\n",
       " [2, 2, 0],\n",
       " [2, 1, 1],\n",
       " [2, 0, 2],\n",
       " [1, 3, 0],\n",
       " [1, 2, 1],\n",
       " [1, 1, 2],\n",
       " [1, 0, 3],\n",
       " [0, 4, 0],\n",
       " [0, 3, 1],\n",
       " [0, 2, 2],\n",
       " [0, 1, 3],\n",
       " [0, 0, 4]]"
      ]
     },
     "execution_count": 38,
     "metadata": {},
     "output_type": "execute_result"
    }
   ],
   "source": [
    "def E(n, p):\n",
    "    liste = suite(n+p - 1)\n",
    "    newListe = []\n",
    "    for l in liste:\n",
    "        sum = 0\n",
    "        for j in l:\n",
    "            sum+=j\n",
    "        if sum == p-1 :\n",
    "            res = []\n",
    "            sum = 0\n",
    "            print(l)\n",
    "            for j in l:\n",
    "                if(j==0):\n",
    "                    sum+=1\n",
    "                else:\n",
    "                    res.append(sum)\n",
    "                    sum=0\n",
    "            res.append(sum)\n",
    "            newListe.append(res)\n",
    "    return newListe\n",
    "       \n",
    "E(4,3)"
   ]
  },
  {
   "cell_type": "markdown",
   "metadata": {},
   "source": [
    "la deuxieme génère dans l'ordre inverse par rapport à la première"
   ]
  },
  {
   "cell_type": "code",
   "execution_count": null,
   "metadata": {},
   "outputs": [],
   "source": []
  },
  {
   "cell_type": "code",
   "execution_count": null,
   "metadata": {},
   "outputs": [],
   "source": []
  }
 ],
 "metadata": {
  "kernelspec": {
   "display_name": "SageMath 9.0",
   "language": "sage",
   "name": "sagemath"
  },
  "language_info": {
   "codemirror_mode": {
    "name": "ipython",
    "version": 3
   },
   "file_extension": ".py",
   "mimetype": "text/x-python",
   "name": "python",
   "nbconvert_exporter": "python",
   "pygments_lexer": "ipython3",
   "version": "3.7.3"
  }
 },
 "nbformat": 4,
 "nbformat_minor": 2
}
