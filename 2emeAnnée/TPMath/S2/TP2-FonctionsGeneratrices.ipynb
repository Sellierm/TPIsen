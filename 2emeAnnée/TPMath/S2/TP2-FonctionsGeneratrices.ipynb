{
 "cells": [
  {
   "cell_type": "markdown",
   "metadata": {},
   "source": [
    "## TP2 &ndash; Fonctions génératrices\n",
    "\n",
    "Indiquez vos noms ici:\n",
    "\n",
    "- Judith Lecoq\n",
    "- Elliott Vanwormhoudt\n",
    "\n",
    "On peut travailler dans Sage avec des séries de puissances aussi aisément qu'avec des polynômes; il suffit de déclarer notre envie de le faire."
   ]
  },
  {
   "cell_type": "code",
   "execution_count": 21,
   "metadata": {},
   "outputs": [],
   "source": [
    "R.<x> = PowerSeriesRing(QQ)  # anneau des séries entières à coefficients rationnels"
   ]
  },
  {
   "cell_type": "markdown",
   "metadata": {},
   "source": [
    "Dans les faits, on ne travaille jamais avec tous les termes d'une série mais plutôt avec sa troncature à un ordre donné (20 par défaut):"
   ]
  },
  {
   "cell_type": "code",
   "execution_count": 22,
   "metadata": {},
   "outputs": [
    {
     "data": {
      "text/plain": [
       "1 - x + x^2 - x^3 + x^4 - x^5 + x^6 - x^7 + x^8 - x^9 + x^10 - x^11 + x^12 - x^13 + x^14 - x^15 + x^16 - x^17 + x^18 - x^19 + O(x^20)"
      ]
     },
     "execution_count": 22,
     "metadata": {},
     "output_type": "execute_result"
    }
   ],
   "source": [
    "1/(1+x)"
   ]
  },
  {
   "cell_type": "markdown",
   "metadata": {},
   "source": [
    "mais on peut changer celui-ci à la baisse si on le souhaite:"
   ]
  },
  {
   "cell_type": "code",
   "execution_count": 23,
   "metadata": {},
   "outputs": [
    {
     "data": {
      "text/plain": [
       "1 - x + x^2 - x^3 + x^4 + O(x^5)"
      ]
     },
     "execution_count": 23,
     "metadata": {},
     "output_type": "execute_result"
    }
   ],
   "source": [
    "1/(1+x) + O(x^5)"
   ]
  },
  {
   "cell_type": "markdown",
   "metadata": {},
   "source": [
    "ou encore à la hausse (mais pour cela il faut augmenter la précision au niveau de l'anneau)."
   ]
  },
  {
   "cell_type": "code",
   "execution_count": 24,
   "metadata": {},
   "outputs": [
    {
     "data": {
      "text/plain": [
       "1 - x + x^2 - x^3 + x^4 - x^5 + x^6 - x^7 + x^8 - x^9 + x^10 - x^11 + x^12 - x^13 + x^14 - x^15 + x^16 - x^17 + x^18 - x^19 + O(x^20)"
      ]
     },
     "execution_count": 24,
     "metadata": {},
     "output_type": "execute_result"
    }
   ],
   "source": [
    "1/(1+x) + O(x^30)  # ne fait pas ce qu'on pourrait croire"
   ]
  },
  {
   "cell_type": "code",
   "execution_count": 25,
   "metadata": {},
   "outputs": [],
   "source": [
    "R.set_default_prec(30)"
   ]
  },
  {
   "cell_type": "code",
   "execution_count": 26,
   "metadata": {},
   "outputs": [
    {
     "data": {
      "text/plain": [
       "1 - x + x^2 - x^3 + x^4 - x^5 + x^6 - x^7 + x^8 - x^9 + x^10 - x^11 + x^12 - x^13 + x^14 - x^15 + x^16 - x^17 + x^18 - x^19 + x^20 - x^21 + x^22 - x^23 + x^24 - x^25 + x^26 - x^27 + x^28 - x^29 + O(x^30)"
      ]
     },
     "execution_count": 26,
     "metadata": {},
     "output_type": "execute_result"
    }
   ],
   "source": [
    "1/(1+x)  # ok"
   ]
  },
  {
   "cell_type": "markdown",
   "metadata": {},
   "source": [
    "On peut effectuer toutes les opérations arithmétiques de base sur ces séries; et on peut passer d'une liste de coefficient à une série et vice-versa de la façon suivante."
   ]
  },
  {
   "cell_type": "code",
   "execution_count": 27,
   "metadata": {},
   "outputs": [
    {
     "data": {
      "text/plain": [
       "1 + 2*x + 3*x^2 + 4*x^3 + 5*x^4"
      ]
     },
     "execution_count": 27,
     "metadata": {},
     "output_type": "execute_result"
    }
   ],
   "source": [
    "f = R([1,2,3,4,5]); f"
   ]
  },
  {
   "cell_type": "code",
   "execution_count": 28,
   "metadata": {},
   "outputs": [
    {
     "data": {
      "text/plain": [
       "+Infinity"
      ]
     },
     "execution_count": 28,
     "metadata": {},
     "output_type": "execute_result"
    }
   ],
   "source": [
    "f.prec()"
   ]
  },
  {
   "cell_type": "markdown",
   "metadata": {},
   "source": [
    "Notez que la série considérée à l'instant n'est __pas__ tout à fait la transformée en $z$ de la suite $(1,2,3,4,5,0,0,\\ldots)$: pour cela il faudrait plutôt poser $x = 1/z$ et utiliser $z$ comme variable.\n",
    "\n",
    "Étant donné une suite $(a_n)_{n\\in\\mathbf{N}}$, on appelle $\\displaystyle f(x) = \\sum_{n=0}^\\infty a_n x^n$ la __fonction génératrice__ de la suite (sans trop se soucier ici des questions de convergence). Sa transformée en $z$ est $f(z^{-1})$ qui a de bonnes propriétés théoriques; pour le calcul numérique (comme ici) il est souvent plus simple de travailler directement avec $f(x)$.\n",
    "\n",
    "Voici par exemple la fonction génératrice d'une suite célèbre:"
   ]
  },
  {
   "cell_type": "code",
   "execution_count": 29,
   "metadata": {},
   "outputs": [
    {
     "data": {
      "text/plain": [
       "1 + x + 2*x^2 + 3*x^3 + 5*x^4 + 8*x^5 + 13*x^6 + 21*x^7 + 34*x^8 + 55*x^9 + 89*x^10 + 144*x^11 + 233*x^12 + 377*x^13 + 610*x^14 + 987*x^15 + 1597*x^16 + 2584*x^17 + 4181*x^18 + 6765*x^19 + 10946*x^20 + 17711*x^21 + 28657*x^22 + 46368*x^23 + 75025*x^24 + 121393*x^25 + 196418*x^26 + 317811*x^27 + 514229*x^28 + 832040*x^29 + O(x^30)"
      ]
     },
     "execution_count": 29,
     "metadata": {},
     "output_type": "execute_result"
    }
   ],
   "source": [
    "R.<x> = PowerSeriesRing(QQ)\n",
    "\n",
    "F = 1/(1 - x - x^2)  # z^2/(z^2 - z - 1)\n",
    "\n",
    "F"
   ]
  },
  {
   "cell_type": "markdown",
   "metadata": {},
   "source": [
    "## A) Partages\n",
    "\n",
    "À la maison j'ai 42 biscuits et deux garçons: le grand les mange 3 par 3 et le petit 2 par 2. De combien de façons cela peut-on répartir les 42 biscuits en tas de 2 ou de 3 ?\n",
    "\n",
    "Si on formalise la question, il s'agit de compter le nombre de façons d'écrire $42 = 2 a + 3 b$, soit $x^{42} = (x^2)^a (x^3)^b$. Il s'agit donc du coefficient de $x^{42}$ dans l'expression\n",
    "\n",
    "$$ (1 + x^2 + x^4 + x^6 + \\cdots)(1 + x^3 + x^6 + x^9 + \\cdots) = \\sum_{a = 0}^\\infty (x^2)^a \\cdot \\sum_{b = 0}^\\infty (x^3)^b = \\frac{1}{1 - x^2} \\cdot \\frac{1}{1 - x^3}. $$"
   ]
  },
  {
   "cell_type": "code",
   "execution_count": 43,
   "metadata": {},
   "outputs": [
    {
     "data": {
      "text/plain": [
       "8"
      ]
     },
     "execution_count": 43,
     "metadata": {},
     "output_type": "execute_result"
    }
   ],
   "source": [
    "R.set_default_prec(43)\n",
    "\n",
    "(1/(1-x^2) * 1/(1-x^3)).padded_list()[42]"
   ]
  },
  {
   "cell_type": "markdown",
   "metadata": {},
   "source": [
    "Il y a donc 8 façons de répartir les biscuits en tas de 2 ou 3; vérifions:"
   ]
  },
  {
   "cell_type": "code",
   "execution_count": 44,
   "metadata": {},
   "outputs": [
    {
     "name": "stdout",
     "output_type": "stream",
     "text": [
      "0 14\n",
      "3 12\n",
      "6 10\n",
      "9 8\n",
      "12 6\n",
      "15 4\n",
      "18 2\n",
      "21 0\n"
     ]
    }
   ],
   "source": [
    "for a in range(22):\n",
    "    if (42 - 2*a) % 3 == 0:\n",
    "        b = (42 - 2*a) / 3\n",
    "        print (a,b)"
   ]
  },
  {
   "cell_type": "markdown",
   "metadata": {},
   "source": [
    "Ce qui est bien c'est que cette méthode se généralise aisément: le nombre de façons de répartir $n$ objets en $k$ tas par paquets de tailles respectives $m_1, \\ldots, m_k$ est le coefficient de $x^n$ dans la fonction génératrice\n",
    "\n",
    "$$ \\prod_{i = 1}^k \\frac{1}{1 - x^{m_i}}. $$\n",
    "\n",
    "En d'autres termes: le coefficient de $x^n$ dans cette expression est le nombre de $k$-uplets $(a_1, \\ldots, a_k)$ pour lesquels $\\sum_{i=1}^k m_i a_i = n$.\n",
    "\n",
    "__Question 1__. En utilisant cette méthode, déterminer le nombres de façons de répartir $10$ biscuits entre $2$ enfants:\n",
    "\n",
    "a) si on suppose qu'on les distribue tous;\n",
    "\n",
    "b) si on se permet d'en manger quelques-uns.\n",
    "\n",
    "Les réponses vous semblent-elles cohérentes ?"
   ]
  },
  {
   "cell_type": "code",
   "execution_count": 45,
   "metadata": {},
   "outputs": [
    {
     "name": "stdout",
     "output_type": "stream",
     "text": [
      "a)Pour 2 enfants : 11\n",
      "\n",
      "b)\n",
      "Pour 3 enfants: 66\n",
      "Pour 4 enfants: 286\n",
      "Pour 5 enfants: 1001\n",
      "Pour 6 enfants: 3003\n",
      "Pour 7 enfants: 8008\n",
      "Pour 8 enfants: 19448\n"
     ]
    }
   ],
   "source": [
    "print(\"a)Pour 2 enfants : %d\" % (1/(1-x^1)*(1/(1-x^1))).padded_list()[10])\n",
    "\n",
    "print(\"\\nb)\")\n",
    "f = (1/(1-x^1))*(1/(1-x^1))\n",
    "for i in range(3,9,1):\n",
    "    f *= (1/(1-x^1))\n",
    "    print(\"Pour %d enfants: %d\" % (i,f.padded_list()[10]))"
   ]
  },
  {
   "cell_type": "markdown",
   "metadata": {},
   "source": [
    "__Question 2__. De combien de façons peut-on rendre 1,47 € en monnaie ?"
   ]
  },
  {
   "cell_type": "code",
   "execution_count": 46,
   "metadata": {},
   "outputs": [
    {
     "name": "stdout",
     "output_type": "stream",
     "text": [
      "Il y a 20116 facon de rendre 1,47 euro en monnaie.\n"
     ]
    }
   ],
   "source": [
    "R.set_default_prec(148)\n",
    "\n",
    "\n",
    "nbr = ( (1/(1-x^1)) * (1/(1-x^2)) * (1/(1-x^5)) * (1/(1-x^10)) * (1/(1-x^20)) * (1/(1-x^50)) * (1/(1-x^100)) ).padded_list()[147]\n",
    "print(\"Il y a %d facon de rendre 1,47 euro en monnaie.\" % nbr)"
   ]
  },
  {
   "cell_type": "markdown",
   "metadata": {},
   "source": [
    "__Question 3__. De combien de façons peut-on écrire $20$ comme la somme d'entiers positifs ? Distinguer selon que l'on tienne compte de l'ordre des termes ou pas."
   ]
  },
  {
   "cell_type": "code",
   "execution_count": 47,
   "metadata": {},
   "outputs": [
    {
     "name": "stdout",
     "output_type": "stream",
     "text": [
      "Sans prendre en compte l'ordre des termes : 626\n",
      "En prenant en compte l'ordre des termes : 524287\n"
     ]
    }
   ],
   "source": [
    "R.set_default_prec(21)\n",
    "s1 ,s2 = 1,0\n",
    "for i in range(1, 20):\n",
    "    s1 *= 1/(1-x^i)\n",
    "    s2 += (x/(1-x))^i\n",
    "\n",
    "print(\"Sans prendre en compte l'ordre des termes : %d\" % s1.padded_list()[20])\n",
    "print(\"En prenant en compte l'ordre des termes : %d\" % s2.padded_list()[20])"
   ]
  },
  {
   "cell_type": "markdown",
   "metadata": {},
   "source": [
    "## B) Parenthésages balancés\n",
    "\n",
    "On appelle _mot de Dyck_ toute chaîne de caractères ne comportant que des ( et des ) et représentant une expression bien balancée (toute parenthèse ouvrante finira par se refermer un peu plus loin; et on ne peut pas refermer une paire de parenthèses avant de l'avoir ouverte).\n",
    "\n",
    "__Question 1__. Écrire une fonction récursive __dyck($n$)__ renvoyant la liste de tous les mots de Dyck de longueur $2n$ (donc comportant $n$ paires de parenthèses). Donner la liste des 42 mots de Dyck de longueur 10."
   ]
  },
  {
   "cell_type": "code",
   "execution_count": 48,
   "metadata": {},
   "outputs": [
    {
     "data": {
      "text/html": [
       "<html><script type=\"math/tex; mode=display\">\\newcommand{\\Bold}[1]{\\mathbf{#1}}\\left[\\verb|()()()()()|, \\verb|()()()(())|, \\verb|()()(())()|, \\verb|()()(()())|, \\verb|()()((()))|, \\verb|()(())()()|, \\verb|()(())(())|, \\verb|()(()())()|, \\verb|()((()))()|, \\verb|()(()()())|, \\verb|()(()(()))|, \\verb|()((())())|, \\verb|()((()()))|, \\verb|()(((())))|, \\verb|(())()()()|, \\verb|(())()(())|, \\verb|(())(())()|, \\verb|(())(()())|, \\verb|(())((()))|, \\verb|(()())()()|, \\verb|(()())(())|, \\verb|((()))()()|, \\verb|((()))(())|, \\verb|(()()())()|, \\verb|(()(()))()|, \\verb|((())())()|, \\verb|((()()))()|, \\verb|(((())))()|, \\verb|(()()()())|, \\verb|(()()(()))|, \\verb|(()(())())|, \\verb|(()(()()))|, \\verb|(()((())))|, \\verb|((())()())|, \\verb|((())(()))|, \\verb|((()())())|, \\verb|(((()))())|, \\verb|((()()()))|, \\verb|((()(())))|, \\verb|(((())()))|, \\verb|(((()())))|, \\verb|((((()))))|\\right]</script></html>"
      ],
      "text/plain": [
       "['()()()()()',\n",
       " '()()()(())',\n",
       " '()()(())()',\n",
       " '()()(()())',\n",
       " '()()((()))',\n",
       " '()(())()()',\n",
       " '()(())(())',\n",
       " '()(()())()',\n",
       " '()((()))()',\n",
       " '()(()()())',\n",
       " '()(()(()))',\n",
       " '()((())())',\n",
       " '()((()()))',\n",
       " '()(((())))',\n",
       " '(())()()()',\n",
       " '(())()(())',\n",
       " '(())(())()',\n",
       " '(())(()())',\n",
       " '(())((()))',\n",
       " '(()())()()',\n",
       " '(()())(())',\n",
       " '((()))()()',\n",
       " '((()))(())',\n",
       " '(()()())()',\n",
       " '(()(()))()',\n",
       " '((())())()',\n",
       " '((()()))()',\n",
       " '(((())))()',\n",
       " '(()()()())',\n",
       " '(()()(()))',\n",
       " '(()(())())',\n",
       " '(()(()()))',\n",
       " '(()((())))',\n",
       " '((())()())',\n",
       " '((())(()))',\n",
       " '((()())())',\n",
       " '(((()))())',\n",
       " '((()()()))',\n",
       " '((()(())))',\n",
       " '(((())()))',\n",
       " '(((()())))',\n",
       " '((((()))))']"
      ]
     },
     "metadata": {},
     "output_type": "display_data"
    }
   ],
   "source": [
    "def dyck(n):\n",
    "    if(n== 0):\n",
    "        return ['']\n",
    "    \n",
    "    mots = []\n",
    "    \n",
    "    for i in range(0,n):\n",
    "        for j in dyck(i):\n",
    "            for k in dyck(n-i-1):\n",
    "                mots.append('(' + j + ')'+k)\n",
    "                \n",
    "    return mots\n",
    "\n",
    "show(dyck(5))"
   ]
  },
  {
   "cell_type": "markdown",
   "metadata": {},
   "source": [
    "__Question 2__. La longueur $C_n$ de la liste renvoyée par __dyck($n$)__ satisfait l'équation de récurrence\n",
    "\n",
    "$$ C_{n+1} = \\sum_{k=0}^n C_k C_{n-k}. $$\n",
    "\n",
    "Utiliser celle-ci pour obtenir les valeurs de $C_n$ pour $n \\in [\\![ 0, 100 ] \\! ]$ afin d'observer graphiquement l'allure des premiers termes de la suite."
   ]
  },
  {
   "cell_type": "code",
   "execution_count": 49,
   "metadata": {},
   "outputs": [
    {
     "data": {
      "image/png": "[encoded data removed]",
      "text/plain": [
       "Graphics object consisting of 1 graphics primitive"
      ]
     },
     "execution_count": 49,
     "metadata": {},
     "output_type": "execute_result"
    }
   ],
   "source": [
    "R.set_default_prec(101)\n",
    "def C(n):\n",
    "    somme = 0\n",
    "    longueur = []\n",
    "    for i in range(n):\n",
    "        if (i <= 0):\n",
    "            somme = 1\n",
    "        else:\n",
    "            somme = 0\n",
    "            for j in range(i):\n",
    "                somme += longueur[j] * longueur[i - j - 1]\n",
    "        longueur.append(somme)\n",
    "    return longueur\n",
    "\n",
    "list_plot(C(100), plotjoined=True)"
   ]
  },
  {
   "cell_type": "markdown",
   "metadata": {},
   "source": [
    "__Question 3__. Confirmer vos valeurs trouvées à la question précédente avec les 101 premiers coefficients de la fonction génératrice\n",
    "\n",
    "$$ C(x) = \\sum_{n=0}^\\infty C_n x^n = \\frac{1 - \\sqrt{1 - 4x}}{2x}. $$"
   ]
  },
  {
   "cell_type": "code",
   "execution_count": 50,
   "metadata": {},
   "outputs": [
    {
     "data": {
      "image/png": "[encoded data removed]",
      "text/plain": [
       "Graphics object consisting of 1 graphics primitive"
      ]
     },
     "execution_count": 50,
     "metadata": {},
     "output_type": "execute_result"
    }
   ],
   "source": [
    "list_plot((((1 - sqrt(1 - 4*x)) / (2*x)).padded_list(100)), plotjoined=True)"
   ]
  }
 ],
 "metadata": {
  "kernelspec": {
   "display_name": "SageMath 9.0",
   "language": "sage",
   "name": "sagemath"
  },
  "language_info": {
   "codemirror_mode": {
    "name": "ipython",
    "version": 3
   },
   "file_extension": ".py",
   "mimetype": "text/x-python",
   "name": "python",
   "nbconvert_exporter": "python",
   "pygments_lexer": "ipython3",
   "version": "3.7.3"
  }
 },
 "nbformat": 4,
 "nbformat_minor": 2
}
