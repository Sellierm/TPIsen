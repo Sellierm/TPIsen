{
 "cells": [
  {
   "cell_type": "markdown",
   "metadata": {},
   "source": [
    "<h1>Exercice 1</h1>"
   ]
  },
  {
   "cell_type": "markdown",
   "metadata": {},
   "source": [
    "    a)Nombre de termes nécessaire pour obtenir une bonne précision\n",
    "   \n",
    "$$\\frac{1}{2^n} \\leq  \\varepsilon \\iff  N \\geq 6log(10)$$"
   ]
  },
  {
   "cell_type": "code",
   "execution_count": 33,
   "metadata": {
    "scrolled": false
   },
   "outputs": [
    {
     "data": {
      "text/plain": [
       "19.9315685693242"
      ]
     },
     "execution_count": 33,
     "metadata": {},
     "output_type": "execute_result"
    }
   ],
   "source": [
    "6*log(10,2).n()"
   ]
  },
  {
   "cell_type": "markdown",
   "metadata": {},
   "source": [
    "On peut donc en conclure que il faut que N soit supérieur a 20 pour que $\\frac{1}{2^N} \\leq  \\varepsilon$\n",
    "\n",
    "On verifie algorithmiquement"
   ]
  },
  {
   "cell_type": "code",
   "execution_count": 23,
   "metadata": {},
   "outputs": [
    {
     "data": {
      "text/plain": [
       "20"
      ]
     },
     "execution_count": 23,
     "metadata": {},
     "output_type": "execute_result"
    }
   ],
   "source": [
    "N = 0\n",
    "RN = 1\n",
    "eps = 10^-6\n",
    "\n",
    "while abs(RN)>= eps:\n",
    "    N += 1\n",
    "    RN /= 2\n",
    "    \n",
    "    \n",
    "N"
   ]
  },
  {
   "cell_type": "markdown",
   "metadata": {},
   "source": [
    "$\\text{on obtient bien que Rn est inferieur à }\\varepsilon \\text{pour n supérieur ou égale à 20}\\\\[1cm]\n",
    "\\text{b) On peut ensuite regarder vers quoi la somme converge}$"
   ]
  },
  {
   "cell_type": "code",
   "execution_count": 1,
   "metadata": {},
   "outputs": [
    {
     "data": {
      "image/png": "[encoded data removed]",
      "text/plain": [
       "Graphics object consisting of 2 graphics primitives"
      ]
     },
     "execution_count": 1,
     "metadata": {},
     "output_type": "execute_result"
    }
   ],
   "source": [
    "S = 0.  \n",
    "sommes_partielles = [ S ]\n",
    "for n in [0..20]:\n",
    "    \n",
    "    S += 1/2**n\n",
    "    sommes_partielles.append(S)\n",
    "    \n",
    "\n",
    "\n",
    "list_plot(sommes_partielles[:20]) + plot(2, (0,20), color='yellow')"
   ]
  },
  {
   "cell_type": "markdown",
   "metadata": {},
   "source": [
    "$\\text{On voit que la série a sa somme qui converge vers 2.}$"
   ]
  },
  {
   "cell_type": "markdown",
   "metadata": {},
   "source": [
    "<h1>Exercice 2</h1>"
   ]
  },
  {
   "cell_type": "markdown",
   "metadata": {},
   "source": [
    "$\\text{on veut montrer que la série alterné convergente} \\sum\\limits_{n\\in\\ N} frac{(-1)^n}{(2n)!} \\text{a pour somme cos(1).}\\\\[1cm]\n",
    "\\text{a)}$"
   ]
  },
  {
   "cell_type": "code",
   "execution_count": 10,
   "metadata": {},
   "outputs": [
    {
     "data": {
      "text/html": [
       "<html><script type=\"math/tex; mode=display\">\\newcommand{\\Bold}[1]{\\mathbf{#1}}\\verb|N=| 4 \\verb|,|\\phantom{\\verb!x!}\\verb|Rn=| 2.756 \\times 10^{-7} \\verb|<| \\frac{1}{1000000}</script></html>"
      ],
      "text/plain": [
       "'N= ' 4 ', Rn=' 2.756e-7 '<' 1/1000000"
      ]
     },
     "metadata": {},
     "output_type": "display_data"
    }
   ],
   "source": [
    "N = 0\n",
    "Rn = 1/factorial(2*N + 2)\n",
    "eps = 10^-6\n",
    "\n",
    "while abs(Rn)>= eps:\n",
    "    N += 1\n",
    "    Rn = 1/factorial(2*N + 2) \n",
    "    \n",
    "    \n",
    "show(\"N= \", N, \", Rn=\",numerical_approx(Rn,digits = 4),\"<\",eps)\n"
   ]
  },
  {
   "cell_type": "markdown",
   "metadata": {},
   "source": [
    "$\\text{On obtient bien que Rn est inferieur a } \\varepsilon \\text{ pour n superieur ou egale a 4}\\\\[1cm]\n",
    "\\text{b) On peut ensuite regarder vers quoi la somme converge}$"
   ]
  },
  {
   "cell_type": "code",
   "execution_count": 12,
   "metadata": {},
   "outputs": [
    {
     "data": {
      "image/png": "[encoded data removed]",
      "text/plain": [
       "Graphics object consisting of 1 graphics primitive"
      ]
     },
     "execution_count": 12,
     "metadata": {},
     "output_type": "execute_result"
    }
   ],
   "source": [
    "sommes_partielles = [ S ]\n",
    "for n in [0..8]:\n",
    "    \n",
    "    S += (-1)^n/factorial(2*n)\n",
    "    sommes_partielles.append(S)\n",
    "    \n",
    "\n",
    "list_plot(sommes_partielles[:8]) "
   ]
  },
  {
   "cell_type": "markdown",
   "metadata": {},
   "source": [
    "$\\text{La somme converge vers 3,14.}$"
   ]
  },
  {
   "cell_type": "code",
   "execution_count": 13,
   "metadata": {},
   "outputs": [
    {
     "data": {
      "text/html": [
       "<html><script type=\"math/tex; mode=display\">\\newcommand{\\Bold}[1]{\\mathbf{#1}}\\verb|S=| 0.540302579365079</script></html>"
      ],
      "text/plain": [
       "'S=' 0.540302579365079"
      ]
     },
     "metadata": {},
     "output_type": "display_data"
    },
    {
     "data": {
      "text/html": [
       "<html><script type=\"math/tex; mode=display\">\\newcommand{\\Bold}[1]{\\mathbf{#1}}\\verb|cos=| 0.540302305868140</script></html>"
      ],
      "text/plain": [
       "'cos=' 0.540302305868140"
      ]
     },
     "metadata": {},
     "output_type": "display_data"
    }
   ],
   "source": [
    "S = 0. \n",
    "for n in [0..4]:\n",
    "    \n",
    "    S += (-1)^n/factorial(2*n)\n",
    "    sommes_partielles.append(S)\n",
    "    \n",
    "show(\"S=\",S)\n",
    "show(\"cos=\",cos(1.))"
   ]
  },
  {
   "cell_type": "markdown",
   "metadata": {},
   "source": [
    "<h1>Exercice 3</h1>"
   ]
  },
  {
   "cell_type": "markdown",
   "metadata": {},
   "source": [
    "$\\textbf{Exercice 3}\\\\\n",
    "\\text{On considère la série harmonique alternée} \\sum\\limits_{n\\in N^*} \\frac{(-1)^{n+1}}{n}\\\\\n",
    "\\textbf{a)}\\ \\ R_N=\\frac{1}{N+1}$"
   ]
  },
  {
   "cell_type": "code",
   "execution_count": 2,
   "metadata": {},
   "outputs": [
    {
     "data": {
      "text/html": [
       "<html><script type=\"math/tex; mode=display\">\\newcommand{\\Bold}[1]{\\mathbf{#1}}\\verb|N=| 1000000 \\phantom{\\verb!x!}\\verb|,Rn=| \\frac{1}{1000001} \\phantom{\\verb!x!}\\verb|,S=| 0.693146680560253</script></html>"
      ],
      "text/plain": [
       "'N=' 1000000 ' ,Rn=' 1/1000001 ' ,S= ' 0.693146680560253"
      ]
     },
     "metadata": {},
     "output_type": "display_data"
    },
    {
     "name": "stdout",
     "output_type": "stream",
     "text": [
      "CPU times: user 2.72 s, sys: 0 ns, total: 2.72 s\n",
      "Wall time: 2.72 s\n"
     ]
    }
   ],
   "source": [
    "%%time\n",
    "N = 1\n",
    "Rn = 1.\n",
    "eps = 10^-6\n",
    "S = 1.\n",
    "\n",
    "\n",
    "while abs(Rn)>= eps:\n",
    "    N += 1\n",
    "    Rn = 1/(N+1) \n",
    "    S+= ((-1)^(N+1))/(N)\n",
    "    \n",
    "show(\"N=\",N,\" ,Rn=\",Rn, \" ,S= \",S)"
   ]
  },
  {
   "cell_type": "markdown",
   "metadata": {},
   "source": [
    "$\\text{Cette valeur correspond à ln(2)}$"
   ]
  },
  {
   "cell_type": "markdown",
   "metadata": {},
   "source": [
    "$\\textbf{b)}\\text{ Il faut 2,72s pour calculer à une précision }\\varepsilon = 10^{-6}.\\\\\n",
    "\\text{Il faut donc logiquement }10^{6}\\text{ fois plus de temps pour calculer à une précision }\\epsilon = 10^{-12}\\text{, soit  2 720 000 secondes}.$"
   ]
  },
  {
   "cell_type": "markdown",
   "metadata": {},
   "source": [
    "<h1>Exercice 4</h1>"
   ]
  },
  {
   "cell_type": "markdown",
   "metadata": {},
   "source": [
    "$\\textbf{Exercice 4}\\\\\n",
    "\\text{La fonction zêta de Riemann est la fonction qui associe à chaque α > 1 la somme ζ(α) de la série convergente }\\\\ \\ \\ \\ \\ \\sum\\limits_{n\\in N^*} \\frac{1}{n^{α}}\\\\\n",
    "\\textbf{a)}\\ \\ \\text{En comparant le reste de la série à l'aire sous }y=\\frac{1}{x^α}\\text{ à partir d'une certaine abscisse, établir l'inégalité }\\\\\n",
    "\\ \\ \\ \\ \\left|ζ(α)-\\sum\\limits_{n=1}^N \\frac{1}{n^α}\\right|\\le\\frac{1}{α-1}.\\frac{1}{N^{α-1}}\\\\\n",
    "\\text{En déduire le nombre N de termes nécessaires pour obtenir une estimation de ζ(α) à une précision de ε donnée.}$\n",
    "\n",
    "$\\text{Soit P}\\rightarrow\\infty :\\\\\n",
    "\\ \\ \\ \\ \\ \\ \\ \\ \\ f_α(x)=\\sum\\limits_{n=N+1}^P \\frac{1}{n^α}\\le\\int_{N}^{P} \\frac{1}{x^α} \\mathrm{d}x\\\\\n",
    "\\ \\ \\ \\ \\ \\ \\ \\ \\ \\ \\ \\ \\ \\ \\ \\ \\ \\ \\ \\ \\sum\\limits_{n=N+1}^P \\frac{1}{n^α}\\le\\frac{1}{α-1}.\\left[\\frac{1}{x^{α-1}}\\right]_{N}^{P}\\\\\n",
    "\\ \\ \\ \\ \\ \\ \\ \\ \\ \\ \\ \\ \\ \\ \\ \\ \\ \\ \\ \\ \\sum\\limits_{n=N+1}^P \\frac{1}{n^α}\\le\\frac{1}{α-1}.\\frac{1}{N^{α-1}}\\ \\ \\ \\ \\text{(car }\\frac{1}{P^{α-1}}\\rightarrow 0)\\\\\n",
    "\\ \\ \\ \\ \\ \\ \\ \\ \\ \\ \\ \\ \\ \\ \\ \\ \\ \\ \\ \\ \\ \\ \\ \\ \\ \\ \\ \\left|R_N\\right|\\le\\frac{1}{α-1}.\\frac{1}{N^{α-1}}\\\\\n",
    "\\ \\ \\ \\ \\ \\ \\ \\ \\ \\ \\ \\ \\ \\ \\ \\ \\ \\ \\ \\ \\ \\left|S-S_N\\right|\\le\\frac{1}{α-1}.\\frac{1}{N^{α-1}}\\ \\ \\ \\ \\text{(car }\\left|R_N\\right|=\\left|S-S_N\\right|)$"
   ]
  },
  {
   "cell_type": "code",
   "execution_count": 4,
   "metadata": {},
   "outputs": [
    {
     "data": {
      "text/html": [
       "<html><script type=\"math/tex; mode=display\">\\newcommand{\\Bold}[1]{\\mathbf{#1}}\\verb|N=| 1000001 \\phantom{\\verb!x!}\\verb|S=| 14.3927267228650</script></html>"
      ],
      "text/plain": [
       "'N=' 1000001 ' S=' 14.3927267228650"
      ]
     },
     "metadata": {},
     "output_type": "display_data"
    },
    {
     "data": {
      "text/html": [
       "<html><script type=\"math/tex; mode=display\">\\newcommand{\\Bold}[1]{\\mathbf{#1}}\\verb|N=| 708 \\phantom{\\verb!x!}\\verb|S=| 0.270580808192475</script></html>"
      ],
      "text/plain": [
       "'N=' 708 ' S=' 0.270580808192475"
      ]
     },
     "metadata": {},
     "output_type": "display_data"
    }
   ],
   "source": [
    "def findN(eps, alpha):\n",
    "    n = 1\n",
    "    x = 1\n",
    "    Rn= 1./(alpha-1)*1/(n^(alpha-1))\n",
    "    S = 0.\n",
    "    \n",
    "    while(Rn>= eps):\n",
    "        n += 1\n",
    "        S += Rn\n",
    "        Rn = 1./(alpha-1)*1/(n^(alpha-1))\n",
    "    return [n, S]\n",
    "\n",
    "\n",
    "resultat=findN(10^(-6), 2)\n",
    "show(\"N=\", resultat[0], \" S=\", resultat[1])\n",
    "\n",
    "\n",
    "resultat=findN(10^(-12), 5)\n",
    "show(\"N=\", resultat[0], \" S=\", resultat[1])"
   ]
  },
  {
   "cell_type": "markdown",
   "metadata": {},
   "source": [
    "$\\text{b)}\\ \\ \\ \\ ζ\\left(2 +\\frac{5}{12}\\right).\\\\\n",
    "α=2 +\\frac{5}{12}=\\frac{29}{12}=2.4167 \\text{ environ}\\\\\n",
    "\\text{alors:}$"
   ]
  },
  {
   "cell_type": "code",
   "execution_count": 5,
   "metadata": {},
   "outputs": [
    {
     "data": {
      "text/html": [
       "<html><script type=\"math/tex; mode=display\">\\newcommand{\\Bold}[1]{\\mathbf{#1}}\\verb|N=| 13441 \\phantom{\\verb!x!}\\verb|S=| 2.0899</script></html>"
      ],
      "text/plain": [
       "'N=' 13441 ' S=' 2.0899"
      ]
     },
     "metadata": {},
     "output_type": "display_data"
    }
   ],
   "source": [
    "resultat=findN(10^(-6), 2.4167)\n",
    "show(\"N=\", resultat[0], \" S=\", numerical_approx(resultat[1], digits=5))"
   ]
  },
  {
   "cell_type": "markdown",
   "metadata": {},
   "source": [
    "$\\ \\ \\ \\ ζ\\left(2 +\\frac{7}{12}\\right).\\\\\n",
    "α=2 +\\frac{7}{12}=\\frac{31}{12}=2.5833 \\text{ environ}\\\\\n",
    "\\text{alors:}$"
   ]
  },
  {
   "cell_type": "code",
   "execution_count": 6,
   "metadata": {},
   "outputs": [
    {
     "data": {
      "text/html": [
       "<html><script type=\"math/tex; mode=display\">\\newcommand{\\Bold}[1]{\\mathbf{#1}}\\verb|N=| 4608 \\phantom{\\verb!x!}\\verb|S=| 1.4652</script></html>"
      ],
      "text/plain": [
       "'N=' 4608 ' S=' 1.4652"
      ]
     },
     "metadata": {},
     "output_type": "display_data"
    }
   ],
   "source": [
    "resultat=findN(10^(-6), 2.5833)\n",
    "show(\"N=\", resultat[0], \" S=\", numerical_approx(resultat[1], digits=5))"
   ]
  },
  {
   "cell_type": "markdown",
   "metadata": {},
   "source": [
    "$\\text{c) Sauriez-vous conjecturer une formule pour la valeur exacte de ζ(2n)?}$"
   ]
  },
  {
   "cell_type": "code",
   "execution_count": 6,
   "metadata": {},
   "outputs": [
    {
     "data": {
      "text/html": [
       "<html><script type=\"math/tex; mode=display\">\\newcommand{\\Bold}[1]{\\mathbf{#1}}\\verb|S=| 1.06388710376242</script></html>"
      ],
      "text/plain": [
       "'S=' 1.06388710376242"
      ]
     },
     "metadata": {},
     "output_type": "display_data"
    }
   ],
   "source": [
    "reset()\n",
    "S = 0.\n",
    "x = 1\n",
    "S = 1.\n",
    "\n",
    "for n in [2..1000]:\n",
    "    S += 1./n^(2*n)\n",
    "    \n",
    "show(\"S=\", S)"
   ]
  },
  {
   "cell_type": "code",
   "execution_count": null,
   "metadata": {},
   "outputs": [],
   "source": []
  }
 ],
 "metadata": {
  "kernelspec": {
   "display_name": "SageMath 9.0",
   "language": "sage",
   "name": "sagemath"
  },
  "language_info": {
   "codemirror_mode": {
    "name": "ipython",
    "version": 3
   },
   "file_extension": ".py",
   "mimetype": "text/x-python",
   "name": "python",
   "nbconvert_exporter": "python",
   "pygments_lexer": "ipython3",
   "version": "3.7.3"
  }
 },
 "nbformat": 4,
 "nbformat_minor": 2
}
